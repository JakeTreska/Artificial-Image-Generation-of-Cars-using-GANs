{
 "cells": [
  {
   "cell_type": "markdown",
   "id": "bb4cce5a-c8cd-4235-8489-3300aa426ed0",
   "metadata": {
    "id": "bb4cce5a-c8cd-4235-8489-3300aa426ed0"
   },
   "source": [
    "# Install Dependencies/Setup GPU Acceleration"
   ]
  },
  {
   "cell_type": "code",
   "execution_count": 1,
   "id": "fe300c19-aac4-40e4-9da1-5ccb02293782",
   "metadata": {
    "executionInfo": {
     "elapsed": 9767,
     "status": "ok",
     "timestamp": 1720865890469,
     "user": {
      "displayName": "Jake T",
      "userId": "17930449471427987394"
     },
     "user_tz": 420
    },
    "id": "fe300c19-aac4-40e4-9da1-5ccb02293782"
   },
   "outputs": [],
   "source": [
    "import tensorflow as tf\n",
    "import os"
   ]
  },
  {
   "cell_type": "code",
   "execution_count": 2,
   "id": "1601670d-94a5-4ba1-99a5-e6019bad90f0",
   "metadata": {
    "executionInfo": {
     "elapsed": 541,
     "status": "ok",
     "timestamp": 1720865891008,
     "user": {
      "displayName": "Jake T",
      "userId": "17930449471427987394"
     },
     "user_tz": 420
    },
    "id": "1601670d-94a5-4ba1-99a5-e6019bad90f0"
   },
   "outputs": [],
   "source": [
    "import numpy as np\n",
    "import cv2\n",
    "import os\n",
    "from matplotlib import pyplot as plt"
   ]
  },
  {
   "cell_type": "markdown",
   "id": "0592c6f8-06fe-445a-a4cd-0ed817d23474",
   "metadata": {
    "id": "0592c6f8-06fe-445a-a4cd-0ed817d23474"
   },
   "source": [
    "# 1.1 Declare file path"
   ]
  },
  {
   "cell_type": "code",
   "execution_count": 3,
   "id": "2_hqv6Xf9VVH",
   "metadata": {
    "executionInfo": {
     "elapsed": 184,
     "status": "ok",
     "timestamp": 1720866139563,
     "user": {
      "displayName": "Jake T",
      "userId": "17930449471427987394"
     },
     "user_tz": 420
    },
    "id": "2_hqv6Xf9VVH"
   },
   "outputs": [],
   "source": [
    "path = \"car_images\""
   ]
  },
  {
   "cell_type": "code",
   "execution_count": 4,
   "id": "xhKlXijBAtut",
   "metadata": {
    "colab": {
     "base_uri": "https://localhost:8080/"
    },
    "executionInfo": {
     "elapsed": 1,
     "status": "ok",
     "timestamp": 1720866140280,
     "user": {
      "displayName": "Jake T",
      "userId": "17930449471427987394"
     },
     "user_tz": 420
    },
    "id": "xhKlXijBAtut",
    "outputId": "279bf508-d97d-42ce-8d37-b92ef7c8e437"
   },
   "outputs": [
    {
     "data": {
      "text/plain": [
       "['Kia',\n",
       " 'Maserati',\n",
       " 'Dodge',\n",
       " 'Chevrolet',\n",
       " 'Cadillac',\n",
       " 'MG',\n",
       " 'Genesis',\n",
       " 'Bugatti',\n",
       " 'GMC',\n",
       " 'Bentley',\n",
       " 'Renault',\n",
       " 'Lincoln',\n",
       " 'Jeep',\n",
       " 'Audi',\n",
       " 'Hyundai',\n",
       " 'Tesla',\n",
       " 'Jaguar',\n",
       " 'image_cars',\n",
       " 'Volvo',\n",
       " 'Volkswagen',\n",
       " 'Pontiac',\n",
       " 'BMW',\n",
       " 'Toyota',\n",
       " 'Ferrari',\n",
       " 'Subaru',\n",
       " 'Aston Martin',\n",
       " '.ipynb_checkpoints',\n",
       " 'Porsche',\n",
       " 'Lamborghini',\n",
       " 'Honda',\n",
       " 'Nissan',\n",
       " 'Ford',\n",
       " 'Ram Trucks',\n",
       " 'Acura',\n",
       " 'Infiniti',\n",
       " 'Land Rover',\n",
       " 'Mazda',\n",
       " 'Buick',\n",
       " 'Alfa Romeo',\n",
       " 'Mitsubishi',\n",
       " 'Chrysler',\n",
       " 'Mercedes-Benz',\n",
       " 'Lexus']"
      ]
     },
     "execution_count": 4,
     "metadata": {},
     "output_type": "execute_result"
    }
   ],
   "source": [
    "os.listdir(path)"
   ]
  },
  {
   "cell_type": "markdown",
   "id": "cbe8aff5-33c7-4080-a555-041be13f4605",
   "metadata": {
    "id": "cbe8aff5-33c7-4080-a555-041be13f4605"
   },
   "source": [
    "# 1.2 Load Data"
   ]
  },
  {
   "cell_type": "code",
   "execution_count": 5,
   "id": "2f4ceeea-c504-4144-a2c5-e92197da1dfb",
   "metadata": {
    "colab": {
     "base_uri": "https://localhost:8080/"
    },
    "executionInfo": {
     "elapsed": 4614,
     "status": "ok",
     "timestamp": 1720866146675,
     "user": {
      "displayName": "Jake T",
      "userId": "17930449471427987394"
     },
     "user_tz": 420
    },
    "id": "2f4ceeea-c504-4144-a2c5-e92197da1dfb",
    "outputId": "14c1780e-1a93-4c3f-caea-2528902358f7"
   },
   "outputs": [
    {
     "name": "stdout",
     "output_type": "stream",
     "text": [
      "Found 68395 files belonging to 43 classes.\n"
     ]
    }
   ],
   "source": [
    "\n",
    "data = tf.keras.utils.image_dataset_from_directory(path,image_size = (28,28),batch_size = 128)"
   ]
  },
  {
   "cell_type": "code",
   "execution_count": 6,
   "id": "6ab33054",
   "metadata": {},
   "outputs": [],
   "source": [
    "data = data.take(40000 // 128)"
   ]
  },
  {
   "cell_type": "code",
   "execution_count": 7,
   "id": "bd6e5784-7edb-49ba-8468-5b15440b35f3",
   "metadata": {
    "executionInfo": {
     "elapsed": 1,
     "status": "ok",
     "timestamp": 1720866146675,
     "user": {
      "displayName": "Jake T",
      "userId": "17930449471427987394"
     },
     "user_tz": 420
    },
    "id": "bd6e5784-7edb-49ba-8468-5b15440b35f3"
   },
   "outputs": [],
   "source": [
    "data_iterator = data.as_numpy_iterator()"
   ]
  },
  {
   "cell_type": "code",
   "execution_count": 8,
   "id": "b8e76ef2-fe4b-4978-8320-dedb28c0a9ba",
   "metadata": {
    "executionInfo": {
     "elapsed": 1,
     "status": "ok",
     "timestamp": 1720866146675,
     "user": {
      "displayName": "Jake T",
      "userId": "17930449471427987394"
     },
     "user_tz": 420
    },
    "id": "b8e76ef2-fe4b-4978-8320-dedb28c0a9ba"
   },
   "outputs": [],
   "source": [
    "data_iterator = data.as_numpy_iterator()"
   ]
  },
  {
   "cell_type": "code",
   "execution_count": 9,
   "id": "4d8f9839-0502-43df-99ec-f50b2c72ed49",
   "metadata": {
    "executionInfo": {
     "elapsed": 485,
     "status": "ok",
     "timestamp": 1720866147160,
     "user": {
      "displayName": "Jake T",
      "userId": "17930449471427987394"
     },
     "user_tz": 420
    },
    "id": "4d8f9839-0502-43df-99ec-f50b2c72ed49"
   },
   "outputs": [],
   "source": [
    "batch = data_iterator.next()"
   ]
  },
  {
   "cell_type": "code",
   "execution_count": 10,
   "id": "78fd29d2-8fba-4d0d-aa25-0ad7856692f3",
   "metadata": {
    "colab": {
     "base_uri": "https://localhost:8080/"
    },
    "executionInfo": {
     "elapsed": 1,
     "status": "ok",
     "timestamp": 1720866147160,
     "user": {
      "displayName": "Jake T",
      "userId": "17930449471427987394"
     },
     "user_tz": 420
    },
    "id": "78fd29d2-8fba-4d0d-aa25-0ad7856692f3",
    "outputId": "c3f73636-226c-439f-ae7b-e4fd729ef5bd"
   },
   "outputs": [
    {
     "name": "stdout",
     "output_type": "stream",
     "text": [
      "{'.ipynb_checkpoints': 0, 'Acura': 1, 'Alfa Romeo': 2, 'Aston Martin': 3, 'Audi': 4, 'BMW': 5, 'Bentley': 6, 'Bugatti': 7, 'Buick': 8, 'Cadillac': 9, 'Chevrolet': 10, 'Chrysler': 11, 'Dodge': 12, 'Ferrari': 13, 'Ford': 14, 'GMC': 15, 'Genesis': 16, 'Honda': 17, 'Hyundai': 18, 'Infiniti': 19, 'Jaguar': 20, 'Jeep': 21, 'Kia': 22, 'Lamborghini': 23, 'Land Rover': 24, 'Lexus': 25, 'Lincoln': 26, 'MG': 27, 'Maserati': 28, 'Mazda': 29, 'Mercedes-Benz': 30, 'Mitsubishi': 31, 'Nissan': 32, 'Pontiac': 33, 'Porsche': 34, 'Ram Trucks': 35, 'Renault': 36, 'Subaru': 37, 'Tesla': 38, 'Toyota': 39, 'Volkswagen': 40, 'Volvo': 41, 'image_cars': 42}\n"
     ]
    }
   ],
   "source": [
    "labels_list = sorted(os.listdir(path))\n",
    "label_dictionary = {labels_list[i]:i for i in range(len(labels_list))}\n",
    "print(label_dictionary)"
   ]
  },
  {
   "cell_type": "markdown",
   "id": "8861bdad-610d-425f-bd09-d700358ec765",
   "metadata": {
    "id": "8861bdad-610d-425f-bd09-d700358ec765"
   },
   "source": [
    "# 1.3 Visualization"
   ]
  },
  {
   "cell_type": "code",
   "execution_count": 11,
   "id": "c4c72c5a-2d9f-4a00-a0fa-2097966b7352",
   "metadata": {
    "colab": {
     "base_uri": "https://localhost:8080/",
     "height": 296
    },
    "executionInfo": {
     "elapsed": 2056,
     "status": "ok",
     "timestamp": 1720866149946,
     "user": {
      "displayName": "Jake T",
      "userId": "17930449471427987394"
     },
     "user_tz": 420
    },
    "id": "c4c72c5a-2d9f-4a00-a0fa-2097966b7352",
    "outputId": "80db7239-babd-4355-dd26-b978f4ec9145",
    "tags": []
   },
   "outputs": [
    {
     "data": {
      "image/png": "[encoded data removed]",
      "text/plain": [
       "<Figure size 2016x2016 with 8 Axes>"
      ]
     },
     "metadata": {
      "needs_background": "light"
     },
     "output_type": "display_data"
    }
   ],
   "source": [
    "fig, ax = plt.subplots(ncols = 8, figsize = (28,28))\n",
    "rows = 0\n",
    "for idx, img in enumerate(batch[0][:8]):\n",
    "    ax[idx].imshow(img.astype(int))\n",
    "    ax[idx].title.set_text(batch[1][idx])"
   ]
  },
  {
   "cell_type": "markdown",
   "id": "fbc02e6b-5639-45b1-acf4-28f3c07136f4",
   "metadata": {
    "id": "fbc02e6b-5639-45b1-acf4-28f3c07136f4"
   },
   "source": [
    "# 2. Data Preparation"
   ]
  },
  {
   "cell_type": "markdown",
   "id": "bbe758b5-f447-4aae-b4a1-e849aa502f87",
   "metadata": {
    "id": "bbe758b5-f447-4aae-b4a1-e849aa502f87"
   },
   "source": [
    "# 2.1 Normalization"
   ]
  },
  {
   "cell_type": "code",
   "execution_count": 12,
   "id": "2455f4da-97ca-491b-bc1e-2ad9e0ccdebc",
   "metadata": {
    "executionInfo": {
     "elapsed": 181,
     "status": "ok",
     "timestamp": 1720866153682,
     "user": {
      "displayName": "Jake T",
      "userId": "17930449471427987394"
     },
     "user_tz": 420
    },
    "id": "2455f4da-97ca-491b-bc1e-2ad9e0ccdebc"
   },
   "outputs": [],
   "source": [
    "# data = data.map(lambda x,y: (x/255,y))\n",
    "# data_iterator = data.as_numpy_iterator()\n",
    "\n",
    "data = data.map(lambda x,y: ((x-127.5)/127.5,y))\n",
    "data_iterator = data.as_numpy_iterator()"
   ]
  },
  {
   "cell_type": "code",
   "execution_count": 13,
   "id": "9cd5b5e5-1da9-4e4d-bfc4-cd9194d9cf80",
   "metadata": {
    "executionInfo": {
     "elapsed": 440,
     "status": "ok",
     "timestamp": 1720866154960,
     "user": {
      "displayName": "Jake T",
      "userId": "17930449471427987394"
     },
     "user_tz": 420
    },
    "id": "9cd5b5e5-1da9-4e4d-bfc4-cd9194d9cf80"
   },
   "outputs": [],
   "source": [
    "batch = data_iterator.next()"
   ]
  },
  {
   "cell_type": "code",
   "execution_count": 14,
   "id": "46ce4932-e01b-401f-b4cd-2a7403659010",
   "metadata": {
    "colab": {
     "base_uri": "https://localhost:8080/"
    },
    "executionInfo": {
     "elapsed": 1,
     "status": "ok",
     "timestamp": 1720866155163,
     "user": {
      "displayName": "Jake T",
      "userId": "17930449471427987394"
     },
     "user_tz": 420
    },
    "id": "46ce4932-e01b-401f-b4cd-2a7403659010",
    "outputId": "b36ce7f8-f08b-44cb-d69a-1e8dff9c3348"
   },
   "outputs": [
    {
     "data": {
      "text/plain": [
       "(128, 28, 28, 3)"
      ]
     },
     "execution_count": 14,
     "metadata": {},
     "output_type": "execute_result"
    }
   ],
   "source": [
    "batch[0].shape"
   ]
  },
  {
   "cell_type": "code",
   "execution_count": 15,
   "id": "560a2006-be3d-48d7-9f1f-709ac7f969d5",
   "metadata": {
    "colab": {
     "base_uri": "https://localhost:8080/",
     "height": 435
    },
    "executionInfo": {
     "elapsed": 1387,
     "status": "ok",
     "timestamp": 1720866158308,
     "user": {
      "displayName": "Jake T",
      "userId": "17930449471427987394"
     },
     "user_tz": 420
    },
    "id": "560a2006-be3d-48d7-9f1f-709ac7f969d5",
    "outputId": "f09ed805-b05e-4d7f-b13e-7d5177d863ae"
   },
   "outputs": [
    {
     "name": "stderr",
     "output_type": "stream",
     "text": [
      "Clipping input data to the valid range for imshow with RGB data ([0..1] for floats or [0..255] for integers).\n",
      "Clipping input data to the valid range for imshow with RGB data ([0..1] for floats or [0..255] for integers).\n",
      "Clipping input data to the valid range for imshow with RGB data ([0..1] for floats or [0..255] for integers).\n",
      "Clipping input data to the valid range for imshow with RGB data ([0..1] for floats or [0..255] for integers).\n",
      "Clipping input data to the valid range for imshow with RGB data ([0..1] for floats or [0..255] for integers).\n",
      "Clipping input data to the valid range for imshow with RGB data ([0..1] for floats or [0..255] for integers).\n",
      "Clipping input data to the valid range for imshow with RGB data ([0..1] for floats or [0..255] for integers).\n",
      "Clipping input data to the valid range for imshow with RGB data ([0..1] for floats or [0..255] for integers).\n"
     ]
    },
    {
     "data": {
      "image/png": "[encoded data removed]",
      "text/plain": [
       "<Figure size 2016x2016 with 8 Axes>"
      ]
     },
     "metadata": {
      "needs_background": "light"
     },
     "output_type": "display_data"
    }
   ],
   "source": [
    "fig, ax = plt.subplots(ncols = 8, figsize = (28,28))\n",
    "rows = 0\n",
    "for idx, img in enumerate(batch[0][:8]):\n",
    "    ax[idx].imshow(img)\n",
    "    ax[idx].title.set_text(batch[1][idx])"
   ]
  },
  {
   "cell_type": "markdown",
   "id": "10e2ee4f-aafb-403a-a0a7-1804a654831c",
   "metadata": {
    "id": "10e2ee4f-aafb-403a-a0a7-1804a654831c"
   },
   "source": [
    "# 2.2 check normalization"
   ]
  },
  {
   "cell_type": "code",
   "execution_count": 16,
   "id": "5c950b38-6a3b-4aa0-b6c7-ab1a4c25385e",
   "metadata": {
    "colab": {
     "base_uri": "https://localhost:8080/"
    },
    "executionInfo": {
     "elapsed": 193,
     "status": "ok",
     "timestamp": 1720866164323,
     "user": {
      "displayName": "Jake T",
      "userId": "17930449471427987394"
     },
     "user_tz": 420
    },
    "id": "5c950b38-6a3b-4aa0-b6c7-ab1a4c25385e",
    "outputId": "bbe25871-fa96-4d79-873f-41c97d66f3c7",
    "scrolled": true
   },
   "outputs": [
    {
     "data": {
      "text/plain": [
       "array([[[ 0.7015406 ,  0.6780112 ,  0.6387955 ],\n",
       "        [ 0.8141457 ,  0.80630255,  0.76708686],\n",
       "        [ 0.8980392 ,  0.8901961 ,  0.8509804 ],\n",
       "        ...,\n",
       "        [ 0.8413164 ,  0.87268895,  0.8648458 ],\n",
       "        [ 0.72268903,  0.7540616 ,  0.74621844],\n",
       "        [ 0.5513099 ,  0.5983687 ,  0.5983687 ]],\n",
       "\n",
       "       [[ 0.76806724,  0.74453783,  0.70532215],\n",
       "        [ 0.8581233 ,  0.85028017,  0.8110645 ],\n",
       "        [ 0.90588236,  0.8980392 ,  0.85882354],\n",
       "        ...,\n",
       "        [ 0.80518186,  0.8365544 ,  0.8287113 ],\n",
       "        [ 0.7291316 ,  0.7605041 ,  0.752661  ],\n",
       "        [ 0.59466755,  0.6417264 ,  0.6417264 ]],\n",
       "\n",
       "       [[ 0.7947878 ,  0.7869447 ,  0.747729  ],\n",
       "        [ 0.88235295,  0.8745098 ,  0.8352941 ],\n",
       "        [ 0.8980392 ,  0.8901961 ,  0.8509804 ],\n",
       "        ...,\n",
       "        [ 0.8390757 ,  0.8469188 ,  0.80770314],\n",
       "        [ 0.8061624 ,  0.8168067 ,  0.7804922 ],\n",
       "        [ 0.65361124,  0.70067006,  0.6849838 ]],\n",
       "\n",
       "       ...,\n",
       "\n",
       "       [[ 0.32296908,  0.26806712,  0.18963575],\n",
       "        [ 0.40014002,  0.33739492,  0.25112042],\n",
       "        [ 0.41961777,  0.35687268,  0.27059817],\n",
       "        ...,\n",
       "        [ 0.3295518 ,  0.27464983,  0.14915963],\n",
       "        [ 0.32983184,  0.27492988,  0.14943968],\n",
       "        [ 0.21467549,  0.16761667,  0.07349902]],\n",
       "\n",
       "       [[ 0.23866542,  0.18376344,  0.10533208],\n",
       "        [ 0.33768502,  0.27493992,  0.18866542],\n",
       "        [ 0.38240308,  0.31965798,  0.23338348],\n",
       "        ...,\n",
       "        [ 0.27002814,  0.2065827 ,  0.12170889],\n",
       "        [ 0.21537583,  0.15193039,  0.06705657],\n",
       "        [ 0.15392134,  0.10686251,  0.01274486]],\n",
       "\n",
       "       [[ 0.214706  ,  0.14411777,  0.07352953],\n",
       "        [ 0.2515406 ,  0.1887955 ,  0.10252099],\n",
       "        [ 0.3729692 ,  0.31022412,  0.2239496 ],\n",
       "        ...,\n",
       "        [ 0.21750715,  0.1626052 ,  0.08417382],\n",
       "        [ 0.15981373,  0.10491177,  0.0264804 ],\n",
       "        [ 0.06764694,  0.01274498, -0.0656864 ]]], dtype=float32)"
      ]
     },
     "execution_count": 16,
     "metadata": {},
     "output_type": "execute_result"
    }
   ],
   "source": [
    "batch[0][0]"
   ]
  },
  {
   "cell_type": "code",
   "execution_count": 17,
   "id": "65429fcd-4f43-46eb-bc51-d113ee777c94",
   "metadata": {
    "colab": {
     "base_uri": "https://localhost:8080/"
    },
    "executionInfo": {
     "elapsed": 180,
     "status": "ok",
     "timestamp": 1720866166880,
     "user": {
      "displayName": "Jake T",
      "userId": "17930449471427987394"
     },
     "user_tz": 420
    },
    "id": "65429fcd-4f43-46eb-bc51-d113ee777c94",
    "outputId": "1040fa92-29ab-4e26-af49-a735df6d213b"
   },
   "outputs": [
    {
     "data": {
      "text/plain": [
       "(128, 28, 28, 3)"
      ]
     },
     "execution_count": 17,
     "metadata": {},
     "output_type": "execute_result"
    }
   ],
   "source": [
    "batch[0].shape"
   ]
  },
  {
   "cell_type": "markdown",
   "id": "5c06493b-0810-4de6-a5d2-32787f1812be",
   "metadata": {
    "id": "5c06493b-0810-4de6-a5d2-32787f1812be"
   },
   "source": [
    "# 3. Build Generator"
   ]
  },
  {
   "cell_type": "markdown",
   "id": "0adde4df-e1ef-416a-9880-6352e6fded13",
   "metadata": {
    "id": "0adde4df-e1ef-416a-9880-6352e6fded13"
   },
   "source": [
    "# 3.1 Import libraries"
   ]
  },
  {
   "cell_type": "code",
   "execution_count": 18,
   "id": "30cad6d9-1085-4574-b1f4-93b214decb30",
   "metadata": {
    "executionInfo": {
     "elapsed": 216,
     "status": "ok",
     "timestamp": 1720866168756,
     "user": {
      "displayName": "Jake T",
      "userId": "17930449471427987394"
     },
     "user_tz": 420
    },
    "id": "30cad6d9-1085-4574-b1f4-93b214decb30"
   },
   "outputs": [],
   "source": [
    "from tensorflow.keras.models import Sequential\n",
    "from tensorflow.keras.layers import Conv2D, Conv2DTranspose, Dense, Flatten, Reshape, LeakyReLU,UpSampling2D,Dropout, MaxPooling2D,BatchNormalization, ReLU"
   ]
  },
  {
   "cell_type": "markdown",
   "id": "ea5d0696-7a9d-4762-9852-e119ec9e4a5d",
   "metadata": {
    "id": "ea5d0696-7a9d-4762-9852-e119ec9e4a5d"
   },
   "source": [
    "# 3.2 Contruct Generator"
   ]
  },
  {
   "cell_type": "code",
   "execution_count": 19,
   "id": "57e68094-6e2b-44fd-9c1e-2554c9129e1e",
   "metadata": {
    "executionInfo": {
     "elapsed": 241,
     "status": "ok",
     "timestamp": 1720866170015,
     "user": {
      "displayName": "Jake T",
      "userId": "17930449471427987394"
     },
     "user_tz": 420
    },
    "id": "57e68094-6e2b-44fd-9c1e-2554c9129e1e"
   },
   "outputs": [],
   "source": [
    "def build_generator():\n",
    "    model = Sequential()\n",
    "    model.add(Dense(128 * 7 * 7, input_dim=100))  # Input dimension is the latent vector size\n",
    "    model.add(LeakyReLU())\n",
    "    model.add(Reshape((7, 7, 128)))\n",
    "    model.add(BatchNormalization())\n",
    "    model.add(Conv2DTranspose(128, kernel_size=4, strides=2, padding='same'))\n",
    "    model.add(LeakyReLU())\n",
    "    model.add(BatchNormalization())\n",
    "    model.add(Conv2DTranspose(256, kernel_size=4, strides=2, padding='same'))  # 28x28x3 output\n",
    "    model.add(Conv2D(3, kernel_size=4, padding='same', activation='tanh'))  # 28x28x3 output\n",
    "    return model"
   ]
  },
  {
   "cell_type": "code",
   "execution_count": 20,
   "id": "bc0ae746-b33e-4523-8bb2-549a4e661bb9",
   "metadata": {
    "executionInfo": {
     "elapsed": 209,
     "status": "ok",
     "timestamp": 1720866171360,
     "user": {
      "displayName": "Jake T",
      "userId": "17930449471427987394"
     },
     "user_tz": 420
    },
    "id": "bc0ae746-b33e-4523-8bb2-549a4e661bb9"
   },
   "outputs": [],
   "source": [
    "generator = build_generator()"
   ]
  },
  {
   "cell_type": "code",
   "execution_count": 21,
   "id": "43945f3a-51fa-45a4-a2cd-9a41373d6789",
   "metadata": {
    "colab": {
     "base_uri": "https://localhost:8080/"
    },
    "executionInfo": {
     "elapsed": 213,
     "status": "ok",
     "timestamp": 1720866171771,
     "user": {
      "displayName": "Jake T",
      "userId": "17930449471427987394"
     },
     "user_tz": 420
    },
    "id": "43945f3a-51fa-45a4-a2cd-9a41373d6789",
    "outputId": "a21673cd-ab43-4c29-94b8-dfb379f7678c"
   },
   "outputs": [
    {
     "name": "stdout",
     "output_type": "stream",
     "text": [
      "Model: \"sequential\"\n",
      "_________________________________________________________________\n",
      "Layer (type)                 Output Shape              Param #   \n",
      "=================================================================\n",
      "dense (Dense)                (None, 6272)              633472    \n",
      "_________________________________________________________________\n",
      "leaky_re_lu (LeakyReLU)      (None, 6272)              0         \n",
      "_________________________________________________________________\n",
      "reshape (Reshape)            (None, 7, 7, 128)         0         \n",
      "_________________________________________________________________\n",
      "batch_normalization (BatchNo (None, 7, 7, 128)         512       \n",
      "_________________________________________________________________\n",
      "conv2d_transpose (Conv2DTran (None, 14, 14, 128)       262272    \n",
      "_________________________________________________________________\n",
      "leaky_re_lu_1 (LeakyReLU)    (None, 14, 14, 128)       0         \n",
      "_________________________________________________________________\n",
      "batch_normalization_1 (Batch (None, 14, 14, 128)       512       \n",
      "_________________________________________________________________\n",
      "conv2d_transpose_1 (Conv2DTr (None, 28, 28, 256)       524544    \n",
      "_________________________________________________________________\n",
      "conv2d (Conv2D)              (None, 28, 28, 3)         12291     \n",
      "=================================================================\n",
      "Total params: 1,433,603\n",
      "Trainable params: 1,433,091\n",
      "Non-trainable params: 512\n",
      "_________________________________________________________________\n"
     ]
    }
   ],
   "source": [
    "generator.summary()"
   ]
  },
  {
   "cell_type": "code",
   "execution_count": 22,
   "id": "d138e6fc-5bfa-495c-8389-d162904cfad2",
   "metadata": {
    "colab": {
     "base_uri": "https://localhost:8080/"
    },
    "executionInfo": {
     "elapsed": 2096,
     "status": "ok",
     "timestamp": 1720866175329,
     "user": {
      "displayName": "Jake T",
      "userId": "17930449471427987394"
     },
     "user_tz": 420
    },
    "id": "d138e6fc-5bfa-495c-8389-d162904cfad2",
    "outputId": "58a315c2-0e16-4097-a6e8-f59fd116168c"
   },
   "outputs": [],
   "source": [
    "img = generator.predict(np.random.randn(4,100))"
   ]
  },
  {
   "cell_type": "code",
   "execution_count": 23,
   "id": "8f04f8fd-8d73-4522-987d-c5e4cbd7bd58",
   "metadata": {
    "colab": {
     "base_uri": "https://localhost:8080/"
    },
    "executionInfo": {
     "elapsed": 3,
     "status": "ok",
     "timestamp": 1720866175329,
     "user": {
      "displayName": "Jake T",
      "userId": "17930449471427987394"
     },
     "user_tz": 420
    },
    "id": "8f04f8fd-8d73-4522-987d-c5e4cbd7bd58",
    "outputId": "1362c898-d6e0-4c9e-dd0d-af50bb0a9546"
   },
   "outputs": [
    {
     "data": {
      "text/plain": [
       "(4, 28, 28, 3)"
      ]
     },
     "execution_count": 23,
     "metadata": {},
     "output_type": "execute_result"
    }
   ],
   "source": [
    "img.shape"
   ]
  },
  {
   "cell_type": "markdown",
   "id": "34481fa3-4c19-47a9-8497-17e3e8ba0988",
   "metadata": {
    "id": "34481fa3-4c19-47a9-8497-17e3e8ba0988"
   },
   "source": [
    "# 3.3 Pre-trained generations"
   ]
  },
  {
   "cell_type": "code",
   "execution_count": 24,
   "id": "2002131e-002c-4a30-b01f-099a6739544b",
   "metadata": {
    "colab": {
     "base_uri": "https://localhost:8080/",
     "height": 592
    },
    "executionInfo": {
     "elapsed": 768,
     "status": "ok",
     "timestamp": 1720866176095,
     "user": {
      "displayName": "Jake T",
      "userId": "17930449471427987394"
     },
     "user_tz": 420
    },
    "id": "2002131e-002c-4a30-b01f-099a6739544b",
    "outputId": "2e34e58e-b21d-4a67-bfbc-5108e554d4d2"
   },
   "outputs": [
    {
     "name": "stderr",
     "output_type": "stream",
     "text": [
      "Clipping input data to the valid range for imshow with RGB data ([0..1] for floats or [0..255] for integers).\n",
      "Clipping input data to the valid range for imshow with RGB data ([0..1] for floats or [0..255] for integers).\n",
      "Clipping input data to the valid range for imshow with RGB data ([0..1] for floats or [0..255] for integers).\n",
      "Clipping input data to the valid range for imshow with RGB data ([0..1] for floats or [0..255] for integers).\n"
     ]
    },
    {
     "data": {
      "image/png": "[encoded data removed]",
      "text/plain": [
       "<Figure size 2016x2016 with 4 Axes>"
      ]
     },
     "metadata": {
      "needs_background": "light"
     },
     "output_type": "display_data"
    }
   ],
   "source": [
    "fig, ax = plt.subplots(ncols = 4, figsize = (28,28))\n",
    "for idx, img in enumerate(img):\n",
    "    ax[idx].imshow(img)\n",
    "    ax[idx].title.set_text(idx)"
   ]
  },
  {
   "cell_type": "markdown",
   "id": "015ca505-c255-4fb1-8922-2deb75518ee6",
   "metadata": {
    "id": "015ca505-c255-4fb1-8922-2deb75518ee6"
   },
   "source": [
    "# 4. Build Discriminator"
   ]
  },
  {
   "cell_type": "markdown",
   "id": "e59aeda2-81c9-4a45-bda0-563622b60d00",
   "metadata": {
    "id": "e59aeda2-81c9-4a45-bda0-563622b60d00"
   },
   "source": [
    "# 4.1 Discriminator function"
   ]
  },
  {
   "cell_type": "code",
   "execution_count": 25,
   "id": "a5528aec-bd60-4233-912b-f9258a8efe41",
   "metadata": {
    "executionInfo": {
     "elapsed": 183,
     "status": "ok",
     "timestamp": 1720866176834,
     "user": {
      "displayName": "Jake T",
      "userId": "17930449471427987394"
     },
     "user_tz": 420
    },
    "id": "a5528aec-bd60-4233-912b-f9258a8efe41"
   },
   "outputs": [],
   "source": [
    "def build_discriminator():\n",
    "    model = Sequential()\n",
    "    model.add(Conv2D(64, kernel_size=4, strides=2, padding='same', input_shape=(28, 28, 3)))\n",
    "    model.add(LeakyReLU())\n",
    "    model.add(Dropout(0.3))\n",
    "    model.add(Conv2D(128, kernel_size=4, strides=2, padding='same'))\n",
    "    model.add(LeakyReLU())\n",
    "    model.add(Dropout(0.3))\n",
    "    model.add(Conv2D(256, kernel_size=4, strides=2, padding='same'))\n",
    "    model.add(LeakyReLU())\n",
    "    model.add(Dropout(0.3))\n",
    "    model.add(Flatten())\n",
    "    model.add(Dense(1, activation='sigmoid'))\n",
    "    return model"
   ]
  },
  {
   "cell_type": "code",
   "execution_count": 26,
   "id": "fe8e31ed-831a-4f54-988e-9db8350244d5",
   "metadata": {
    "executionInfo": {
     "elapsed": 236,
     "status": "ok",
     "timestamp": 1720866178485,
     "user": {
      "displayName": "Jake T",
      "userId": "17930449471427987394"
     },
     "user_tz": 420
    },
    "id": "fe8e31ed-831a-4f54-988e-9db8350244d5"
   },
   "outputs": [],
   "source": [
    "discriminator = build_discriminator()"
   ]
  },
  {
   "cell_type": "code",
   "execution_count": 27,
   "id": "9f7c4924-015e-4185-ad0c-500228e407e5",
   "metadata": {
    "colab": {
     "base_uri": "https://localhost:8080/"
    },
    "executionInfo": {
     "elapsed": 199,
     "status": "ok",
     "timestamp": 1720866178975,
     "user": {
      "displayName": "Jake T",
      "userId": "17930449471427987394"
     },
     "user_tz": 420
    },
    "id": "9f7c4924-015e-4185-ad0c-500228e407e5",
    "outputId": "4d7a6dcb-3afa-40f2-b10f-e3bcd293593a"
   },
   "outputs": [
    {
     "name": "stdout",
     "output_type": "stream",
     "text": [
      "Model: \"sequential_1\"\n",
      "_________________________________________________________________\n",
      "Layer (type)                 Output Shape              Param #   \n",
      "=================================================================\n",
      "conv2d_1 (Conv2D)            (None, 14, 14, 64)        3136      \n",
      "_________________________________________________________________\n",
      "leaky_re_lu_2 (LeakyReLU)    (None, 14, 14, 64)        0         \n",
      "_________________________________________________________________\n",
      "dropout (Dropout)            (None, 14, 14, 64)        0         \n",
      "_________________________________________________________________\n",
      "conv2d_2 (Conv2D)            (None, 7, 7, 128)         131200    \n",
      "_________________________________________________________________\n",
      "leaky_re_lu_3 (LeakyReLU)    (None, 7, 7, 128)         0         \n",
      "_________________________________________________________________\n",
      "dropout_1 (Dropout)          (None, 7, 7, 128)         0         \n",
      "_________________________________________________________________\n",
      "conv2d_3 (Conv2D)            (None, 4, 4, 256)         524544    \n",
      "_________________________________________________________________\n",
      "leaky_re_lu_4 (LeakyReLU)    (None, 4, 4, 256)         0         \n",
      "_________________________________________________________________\n",
      "dropout_2 (Dropout)          (None, 4, 4, 256)         0         \n",
      "_________________________________________________________________\n",
      "flatten (Flatten)            (None, 4096)              0         \n",
      "_________________________________________________________________\n",
      "dense_1 (Dense)              (None, 1)                 4097      \n",
      "=================================================================\n",
      "Total params: 662,977\n",
      "Trainable params: 662,977\n",
      "Non-trainable params: 0\n",
      "_________________________________________________________________\n"
     ]
    }
   ],
   "source": [
    "discriminator.summary()"
   ]
  },
  {
   "cell_type": "markdown",
   "id": "17fe7c1b-210e-4f79-9596-34ec664a6b9b",
   "metadata": {
    "id": "17fe7c1b-210e-4f79-9596-34ec664a6b9b"
   },
   "source": [
    "# 4.2 Evaluate initial prediction"
   ]
  },
  {
   "cell_type": "code",
   "execution_count": 28,
   "id": "a7fdfd6d-749a-4ede-9547-f437b8bdc215",
   "metadata": {
    "colab": {
     "base_uri": "https://localhost:8080/"
    },
    "executionInfo": {
     "elapsed": 204,
     "status": "ok",
     "timestamp": 1720866180611,
     "user": {
      "displayName": "Jake T",
      "userId": "17930449471427987394"
     },
     "user_tz": 420
    },
    "id": "a7fdfd6d-749a-4ede-9547-f437b8bdc215",
    "outputId": "51337d96-862b-4c71-8b92-d25a0b90f99d"
   },
   "outputs": [],
   "source": [
    "test = generator.predict(np.random.randn(4,100))"
   ]
  },
  {
   "cell_type": "code",
   "execution_count": 29,
   "id": "cd062b36-b30e-46b3-9987-98a34e08524b",
   "metadata": {
    "colab": {
     "base_uri": "https://localhost:8080/"
    },
    "executionInfo": {
     "elapsed": 194,
     "status": "ok",
     "timestamp": 1720866183171,
     "user": {
      "displayName": "Jake T",
      "userId": "17930449471427987394"
     },
     "user_tz": 420
    },
    "id": "cd062b36-b30e-46b3-9987-98a34e08524b",
    "outputId": "f3ecefae-d79d-431c-edfd-2d03f7b057f8"
   },
   "outputs": [
    {
     "data": {
      "text/plain": [
       "(4, 28, 28, 3)"
      ]
     },
     "execution_count": 29,
     "metadata": {},
     "output_type": "execute_result"
    }
   ],
   "source": [
    "test.shape"
   ]
  },
  {
   "cell_type": "code",
   "execution_count": 30,
   "id": "c8d4d9bf-66c9-400b-b472-29560d849c34",
   "metadata": {
    "colab": {
     "base_uri": "https://localhost:8080/"
    },
    "executionInfo": {
     "elapsed": 876,
     "status": "ok",
     "timestamp": 1720866185362,
     "user": {
      "displayName": "Jake T",
      "userId": "17930449471427987394"
     },
     "user_tz": 420
    },
    "id": "c8d4d9bf-66c9-400b-b472-29560d849c34",
    "outputId": "72545b36-04f5-4b74-d7e3-c1beae4520ed"
   },
   "outputs": [
    {
     "data": {
      "text/plain": [
       "array([[0.50023466],\n",
       "       [0.49971905],\n",
       "       [0.5003378 ],\n",
       "       [0.4995617 ]], dtype=float32)"
      ]
     },
     "execution_count": 30,
     "metadata": {},
     "output_type": "execute_result"
    }
   ],
   "source": [
    "discriminator.predict(test)"
   ]
  },
  {
   "cell_type": "markdown",
   "id": "2b3dec75-17a1-47d2-a3da-e28dd00db7be",
   "metadata": {
    "id": "2b3dec75-17a1-47d2-a3da-e28dd00db7be"
   },
   "source": [
    "# 5. Training loop"
   ]
  },
  {
   "cell_type": "markdown",
   "id": "81145f18-29d3-4c53-9980-159f0617830b",
   "metadata": {
    "id": "81145f18-29d3-4c53-9980-159f0617830b"
   },
   "source": [
    "# 5.1 Install requirements"
   ]
  },
  {
   "cell_type": "code",
   "execution_count": 31,
   "id": "7766c1dc-994b-4c0d-a3eb-01c00b8c23af",
   "metadata": {
    "executionInfo": {
     "elapsed": 187,
     "status": "ok",
     "timestamp": 1720866188251,
     "user": {
      "displayName": "Jake T",
      "userId": "17930449471427987394"
     },
     "user_tz": 420
    },
    "id": "7766c1dc-994b-4c0d-a3eb-01c00b8c23af"
   },
   "outputs": [],
   "source": [
    "from tensorflow.keras.optimizers import Adam\n",
    "from tensorflow.keras.losses import BinaryCrossentropy"
   ]
  },
  {
   "cell_type": "code",
   "execution_count": 32,
   "id": "c371fd2b",
   "metadata": {},
   "outputs": [],
   "source": [
    "g_opt = Adam(learning_rate=0.0002, beta_1=0.5, beta_2=0.999)\n",
    "d_opt = Adam(learning_rate=0.0002, beta_1=0.5, beta_2=0.999)"
   ]
  },
  {
   "cell_type": "code",
   "execution_count": 33,
   "id": "789746bb-5cf9-4a6c-ac27-f3015811d35b",
   "metadata": {
    "executionInfo": {
     "elapsed": 198,
     "status": "ok",
     "timestamp": 1720866214447,
     "user": {
      "displayName": "Jake T",
      "userId": "17930449471427987394"
     },
     "user_tz": 420
    },
    "id": "789746bb-5cf9-4a6c-ac27-f3015811d35b"
   },
   "outputs": [],
   "source": [
    "#g_opt = Adam(learning_rate = 0.01)\n",
    "g_loss = BinaryCrossentropy()\n",
    "\n",
    "#d_opt = Adam(learning_rate = 0.001)\n",
    "d_loss = BinaryCrossentropy()"
   ]
  },
  {
   "cell_type": "markdown",
   "id": "c1211cf6-4216-4022-a5d5-349ef303e27e",
   "metadata": {
    "id": "c1211cf6-4216-4022-a5d5-349ef303e27e"
   },
   "source": [
    "# 5.2 Build Model class"
   ]
  },
  {
   "cell_type": "code",
   "execution_count": 34,
   "id": "890ef556-a928-46b1-ac71-ea6e55ced1da",
   "metadata": {
    "executionInfo": {
     "elapsed": 204,
     "status": "ok",
     "timestamp": 1720866218053,
     "user": {
      "displayName": "Jake T",
      "userId": "17930449471427987394"
     },
     "user_tz": 420
    },
    "id": "890ef556-a928-46b1-ac71-ea6e55ced1da"
   },
   "outputs": [],
   "source": [
    "from tensorflow.keras.models import Model"
   ]
  },
  {
   "cell_type": "code",
   "execution_count": 35,
   "id": "b15f6ada-1c39-4de2-8a83-b8dfd6e0b8f7",
   "metadata": {
    "id": "b15f6ada-1c39-4de2-8a83-b8dfd6e0b8f7"
   },
   "outputs": [],
   "source": [
    "# class HypercarGAN(Model):\n",
    "\n",
    "#     def __init__(self,generator,discriminator,*args,**kwargs):\n",
    "#         super().__init__(*args,**kwargs)\n",
    "\n",
    "#         self.generator = generator\n",
    "#         self.discriminator = discriminator\n",
    "\n",
    "#     def compile(self,g_opt,g_loss,d_opt,d_loss,*args,**kwargs):\n",
    "#         super().compile(*args,**kwargs)\n",
    "\n",
    "#         self.g_opt = g_opt\n",
    "#         self.g_loss = g_loss\n",
    "\n",
    "#         self.d_opt = d_opt\n",
    "#         self.d_loss = d_loss\n",
    "\n",
    "#     def train_step(self,batch):\n",
    "\n",
    "#         real_images = batch[0]\n",
    "#         fake_images = self.generator(tf.random.normal((128,100)), training = False)\n",
    "\n",
    "#         # discriminator training\n",
    "#         with tf.GradientTape() as d_tape:\n",
    "\n",
    "#             yhat_real = self.discriminator(real_images, training = True)\n",
    "#             yhat_fake = self.discriminator(fake_images, training = True)\n",
    "#             yhat_realfake = tf.concat([yhat_real,yhat_fake], axis = 0)\n",
    "\n",
    "#             # specify real/fake images\n",
    "\n",
    "#             #y_realfake = tf.concat([tf.zeros_like(yhat_real),tf.ones_like(yhat_fake)],axis = 0)\n",
    "#             y_realfake = tf.concat([tf.ones_like(yhat_real),tf.zeros_like(yhat_fake)],axis = 0)\n",
    "\n",
    "#             # add noise\n",
    "#             # noise_real = 0.15*tf.random.uniform(tf.shape(yhat_real))\n",
    "#             # noise_fake = -0.15*tf.random.uniform(tf.shape(yhat_fake))\n",
    "#             noise_real = -0.15*tf.random.uniform(tf.shape(yhat_real))\n",
    "#             noise_fake = 0.15*tf.random.uniform(tf.shape(yhat_fake))\n",
    "#             y_realfake += tf.concat([noise_real,noise_fake],axis = 0)\n",
    "\n",
    "#             # loss\n",
    "\n",
    "#             total_d_loss = self.d_loss(y_realfake, yhat_realfake)\n",
    "\n",
    "#         # back propogation\n",
    "\n",
    "#         dgrad = d_tape.gradient(total_d_loss, self.discriminator.trainable_variables)\n",
    "#         self.d_opt.apply_gradients(zip(dgrad,self.discriminator.trainable_variables))\n",
    "\n",
    "#     # generator training\n",
    "\n",
    "#         with tf.GradientTape() as g_tape:\n",
    "\n",
    "#             gen_images = self.generator(tf.random.normal((128,100)),training = True)\n",
    "\n",
    "#             predicted_labels = self.discriminator(gen_images, training = False)\n",
    "#             # was initially zeros_like\n",
    "#             total_g_loss = self.g_loss(tf.ones_like(predicted_labels), predicted_labels)\n",
    "\n",
    "#         # back propogation\n",
    "\n",
    "#         ggrad = g_tape.gradient(total_g_loss, self.generator.trainable_variables)\n",
    "#         self.g_opt.apply_gradients(zip(ggrad,self.generator.trainable_variables))\n",
    "\n",
    "#         return {\"d_loss\":total_d_loss, \"g_loss\": total_g_loss}"
   ]
  },
  {
   "cell_type": "code",
   "execution_count": 36,
   "id": "rODLX2vSnQGA",
   "metadata": {
    "executionInfo": {
     "elapsed": 224,
     "status": "ok",
     "timestamp": 1720866221606,
     "user": {
      "displayName": "Jake T",
      "userId": "17930449471427987394"
     },
     "user_tz": 420
    },
    "id": "rODLX2vSnQGA"
   },
   "outputs": [],
   "source": [
    "import tensorflow as tf\n",
    "from tensorflow.keras.models import Model\n",
    "\n",
    "class HypercarGAN(Model):\n",
    "    def __init__(self, generator, discriminator, *args, **kwargs):\n",
    "        super().__init__(*args, **kwargs)\n",
    "        self.generator = generator\n",
    "        self.discriminator = discriminator\n",
    "\n",
    "    def compile(self, g_opt, g_loss, d_opt, d_loss, *args, **kwargs):\n",
    "        super().compile(*args, **kwargs)\n",
    "        self.g_opt = g_opt\n",
    "        self.g_loss = g_loss\n",
    "        self.d_opt = d_opt\n",
    "        self.d_loss = d_loss\n",
    "\n",
    "    def train_step(self, batch):\n",
    "        real_images = batch[0]\n",
    "        batch_size = tf.shape(real_images)[0]\n",
    "\n",
    "        # Train discriminator with real and fake images\n",
    "        with tf.GradientTape() as d_tape:\n",
    "            # Generate fake images\n",
    "            random_latent_vectors = tf.random.normal(shape=(batch_size, 100))\n",
    "            fake_images = self.generator(random_latent_vectors, training=False)\n",
    "\n",
    "            # Discriminator predictions\n",
    "            yhat_real = self.discriminator(real_images, training=True)\n",
    "            yhat_fake = self.discriminator(fake_images, training=True)\n",
    "            yhat_realfake = tf.concat([yhat_real, yhat_fake], axis=0)\n",
    "\n",
    "            # Labels for real and fake images\n",
    "            y_realfake = tf.concat([tf.ones_like(yhat_real), tf.zeros_like(yhat_fake)], axis=0)\n",
    "\n",
    "            # Add noise to the labels\n",
    "            noise_real = -0.15 * tf.random.uniform(tf.shape(yhat_real))\n",
    "            noise_fake = 0.15 * tf.random.uniform(tf.shape(yhat_fake))\n",
    "            y_realfake += tf.concat([noise_real, noise_fake], axis=0)\n",
    "\n",
    "            # Compute discriminator loss\n",
    "            total_d_loss = self.d_loss(y_realfake, yhat_realfake)\n",
    "\n",
    "        # Apply backpropagation to the discriminator\n",
    "        dgrad = d_tape.gradient(total_d_loss, self.discriminator.trainable_variables)\n",
    "        self.d_opt.apply_gradients(zip(dgrad, self.discriminator.trainable_variables))\n",
    "\n",
    "        # Train generator\n",
    "        with tf.GradientTape() as g_tape:\n",
    "            random_latent_vectors = tf.random.normal(shape=(batch_size, 100))\n",
    "            gen_images = self.generator(random_latent_vectors, training=True)\n",
    "\n",
    "            # Discriminator's predictions on generated images\n",
    "            predicted_labels = self.discriminator(gen_images, training=False)\n",
    "\n",
    "            # Compute generator loss\n",
    "            total_g_loss = self.g_loss(tf.ones_like(predicted_labels), predicted_labels)\n",
    "\n",
    "        # Apply backpropagation to the generator\n",
    "        ggrad = g_tape.gradient(total_g_loss, self.generator.trainable_variables)\n",
    "        self.g_opt.apply_gradients(zip(ggrad, self.generator.trainable_variables))\n",
    "\n",
    "        return {\"d_loss\": total_d_loss, \"g_loss\": total_g_loss}\n",
    "\n",
    "# Usage example:\n",
    "# Assuming you have already created `generator` and `discriminator` models and defined `g_opt`, `d_opt`, `g_loss`, and `d_loss`.\n",
    "\n",
    "# hypercar_gan = HypercarGAN(generator, discriminator)\n",
    "# hypercar_gan.compile(g_opt=g_opt, g_loss=g_loss, d_opt=d_opt, d_loss=d_loss)\n",
    "\n",
    "# # To train the model\n",
    "# hypercar_gan.fit(dataset, epochs=num_epochs)\n"
   ]
  },
  {
   "cell_type": "markdown",
   "id": "acd3d771-1a55-4445-8935-9b4a5102f968",
   "metadata": {
    "id": "acd3d771-1a55-4445-8935-9b4a5102f968"
   },
   "source": [
    "# 5.3 Instantiate Class"
   ]
  },
  {
   "cell_type": "code",
   "execution_count": 37,
   "id": "11da15de-13e5-4ab0-baa8-d9341947400f",
   "metadata": {
    "executionInfo": {
     "elapsed": 204,
     "status": "ok",
     "timestamp": 1720866225325,
     "user": {
      "displayName": "Jake T",
      "userId": "17930449471427987394"
     },
     "user_tz": 420
    },
    "id": "11da15de-13e5-4ab0-baa8-d9341947400f"
   },
   "outputs": [],
   "source": [
    "CarGAN = HypercarGAN(generator,discriminator)"
   ]
  },
  {
   "cell_type": "code",
   "execution_count": 38,
   "id": "488f702f-f454-4217-9c9d-fd7f40616ea3",
   "metadata": {
    "executionInfo": {
     "elapsed": 182,
     "status": "ok",
     "timestamp": 1720866226510,
     "user": {
      "displayName": "Jake T",
      "userId": "17930449471427987394"
     },
     "user_tz": 420
    },
    "id": "488f702f-f454-4217-9c9d-fd7f40616ea3"
   },
   "outputs": [],
   "source": [
    "CarGAN.compile(g_opt,g_loss,d_opt,d_loss)"
   ]
  },
  {
   "cell_type": "code",
   "execution_count": 39,
   "id": "cf9ea03b-10fb-45f9-a8e1-f202796d7dc4",
   "metadata": {
    "executionInfo": {
     "elapsed": 1,
     "status": "ok",
     "timestamp": 1720866227279,
     "user": {
      "displayName": "Jake T",
      "userId": "17930449471427987394"
     },
     "user_tz": 420
    },
    "id": "cf9ea03b-10fb-45f9-a8e1-f202796d7dc4"
   },
   "outputs": [],
   "source": [
    "from tensorflow.keras.preprocessing.image import array_to_img\n",
    "from tensorflow.keras.callbacks import Callback"
   ]
  },
  {
   "cell_type": "code",
   "execution_count": 40,
   "id": "123f2b23-0fed-4079-8daf-b945a01889ed",
   "metadata": {
    "executionInfo": {
     "elapsed": 205,
     "status": "ok",
     "timestamp": 1720866947636,
     "user": {
      "displayName": "Jake T",
      "userId": "17930449471427987394"
     },
     "user_tz": 420
    },
    "id": "123f2b23-0fed-4079-8daf-b945a01889ed"
   },
   "outputs": [],
   "source": [
    "class Monitor(Callback):\n",
    "    def __init__(self,num_img=1,latent_dim = 100):\n",
    "        self.num_img = num_img\n",
    "        self.latent_dim = latent_dim\n",
    "\n",
    "    def on_epoch_end(self,epoch,logs = None):\n",
    "        random_latent_vectors = tf.random.uniform((self.num_img,self.latent_dim))\n",
    "        generated_images = self.model.generator(random_latent_vectors)\n",
    "        # mult by 255 is not usint tanh else use *127.5 + 127.5\n",
    "        generated_images *= 127.5\n",
    "        generated_images += 127.5\n",
    "        for i in range(self.num_img):\n",
    "            img = array_to_img(generated_images[i])\n",
    "            # if using colab use /content/car_generated_images instead of /car_generated_images\n",
    "            img.save(os.path.join('car_generated_images',f'generated_img{epoch}_{i}.png'))"
   ]
  },
  {
   "cell_type": "code",
   "execution_count": 43,
   "id": "be1c50c4-a629-41c9-9dfb-db032368e811",
   "metadata": {
    "colab": {
     "base_uri": "https://localhost:8080/",
     "height": 530
    },
    "executionInfo": {
     "elapsed": 1350331,
     "status": "error",
     "timestamp": 1720868302890,
     "user": {
      "displayName": "Jake T",
      "userId": "17930449471427987394"
     },
     "user_tz": 420
    },
    "id": "be1c50c4-a629-41c9-9dfb-db032368e811",
    "outputId": "b7d68834-a3e8-4384-eaba-a52cf4934254"
   },
   "outputs": [
    {
     "name": "stdout",
     "output_type": "stream",
     "text": [
      "312/312 [==============================] - 15s 48ms/step - d_loss: 0.4936 - g_loss: 2.2278\n"
     ]
    }
   ],
   "source": [
    "hist = CarGAN.fit(data,epochs = 1,callbacks = [Monitor()])"
   ]
  },
  {
   "cell_type": "code",
   "execution_count": 48,
   "id": "76b9e5f7",
   "metadata": {},
   "outputs": [
    {
     "name": "stdout",
     "output_type": "stream",
     "text": [
      "WARNING:tensorflow:Compiled the loaded model, but the compiled metrics have yet to be built. `model.compile_metrics` will be empty until you train or evaluate the model.\n"
     ]
    }
   ],
   "source": [
    "#generator.save(\"generator_model.keras\")"
   ]
  },
  {
   "cell_type": "code",
   "execution_count": 50,
   "id": "efb3259d",
   "metadata": {},
   "outputs": [
    {
     "name": "stdout",
     "output_type": "stream",
     "text": [
      "WARNING:tensorflow:Compiled the loaded model, but the compiled metrics have yet to be built. `model.compile_metrics` will be empty until you train or evaluate the model.\n"
     ]
    }
   ],
   "source": [
    "#discriminator.save(\"discriminator_model.keras\")"
   ]
  },
  {
   "cell_type": "code",
   "execution_count": 41,
   "id": "97cce86a",
   "metadata": {},
   "outputs": [
    {
     "name": "stdout",
     "output_type": "stream",
     "text": [
      "WARNING:tensorflow:No training configuration found in the save file, so the model was *not* compiled. Compile it manually.\n"
     ]
    }
   ],
   "source": [
    "import numpy as np\n",
    "import matplotlib.pyplot as plt\n",
    "from tensorflow.keras.models import load_model\n",
    "\n",
    "\n",
    "CarGAN = load_model(\"generator_model.keras\")\n",
    "\n"
   ]
  },
  {
   "cell_type": "code",
   "execution_count": 55,
   "id": "16660726",
   "metadata": {},
   "outputs": [
    {
     "data": {
      "image/png": "[encoded data removed]",
      "text/plain": [
       "<Figure size 432x288 with 1 Axes>"
      ]
     },
     "metadata": {
      "needs_background": "light"
     },
     "output_type": "display_data"
    },
    {
     "data": {
      "image/png": "[encoded data removed]",
      "text/plain": [
       "<Figure size 432x288 with 1 Axes>"
      ]
     },
     "metadata": {
      "needs_background": "light"
     },
     "output_type": "display_data"
    },
    {
     "data": {
      "image/png": "[encoded data removed]",
      "text/plain": [
       "<Figure size 432x288 with 1 Axes>"
      ]
     },
     "metadata": {
      "needs_background": "light"
     },
     "output_type": "display_data"
    },
    {
     "data": {
      "image/png": "[encoded data removed]",
      "text/plain": [
       "<Figure size 432x288 with 1 Axes>"
      ]
     },
     "metadata": {
      "needs_background": "light"
     },
     "output_type": "display_data"
    },
    {
     "data": {
      "image/png": "[encoded data removed]",
      "text/plain": [
       "<Figure size 432x288 with 1 Axes>"
      ]
     },
     "metadata": {
      "needs_background": "light"
     },
     "output_type": "display_data"
    }
   ],
   "source": [
    "latent_dim = 100\n",
    "\n",
    "# Generate random latent vectors (input noise for the generator)\n",
    "num_samples = 5  # Number of images to generate\n",
    "random_latent_vectors = np.random.normal(size=(num_samples, latent_dim))\n",
    "\n",
    "# Generate images\n",
    "generated_images = CarGAN.predict(random_latent_vectors)\n",
    "\n",
    "# Plot the generated images\n",
    "for i in range(num_samples):\n",
    "    plt.imshow((generated_images[i] * 127.5 + 127.5).astype(np.uint8))  # Convert from [-1, 1] to [0, 255]\n",
    "    plt.axis('off')\n",
    "    plt.show()"
   ]
  },
  {
   "cell_type": "code",
   "execution_count": null,
   "id": "89db1bbf",
   "metadata": {},
   "outputs": [],
   "source": []
  }
 ],
 "metadata": {
  "accelerator": "GPU",
  "colab": {
   "gpuType": "T4",
   "provenance": []
  },
  "kernelspec": {
   "display_name": "Python 3",
   "language": "python",
   "name": "python3"
  },
  "language_info": {
   "codemirror_mode": {
    "name": "ipython",
    "version": 3
   },
   "file_extension": ".py",
   "mimetype": "text/x-python",
   "name": "python",
   "nbconvert_exporter": "python",
   "pygments_lexer": "ipython3",
   "version": "3.8.12"
  }
 },
 "nbformat": 4,
 "nbformat_minor": 5
}
